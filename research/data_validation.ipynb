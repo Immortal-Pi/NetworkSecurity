{
 "cells": [
  {
   "cell_type": "markdown",
   "id": "2642690b",
   "metadata": {},
   "source": [
    "# data validation \n",
    "- datatypes \n",
    "- data drift \n",
    "- same schema\n",
    "- validate column\n"
   ]
  },
  {
   "cell_type": "code",
   "execution_count": 1,
   "id": "8d1c094e",
   "metadata": {},
   "outputs": [],
   "source": [
    "# constants \n",
    "\"\"\" \n",
    "Data Validation related constants \n",
    "\"\"\"\n",
    "DATA_VALIDATION_DIR_NAME: str = 'data_validation'\n",
    "DATA_VALIDATION_VALID_DIR: str = 'validated'\n",
    "DATA_VALIDATION_INVALID_DIR: str = 'invalid'\n",
    "DATA_VALIDATION_DRIFT_REPORT_DIR: str = 'drift_report'\n",
    "DATA_VALIDATION_DRIFT_REPRT_FILE_NAME: str = 'report.yaml'"
   ]
  },
  {
   "cell_type": "code",
   "execution_count": 5,
   "id": "9b32be84",
   "metadata": {},
   "outputs": [],
   "source": [
    "# config \n",
    "from NetworkSecurity.constants import training_pipeline\n",
    "from NetworkSecurity.config.configuration import TrainingPipelineConfig\n",
    "import os \n",
    "\n",
    "class DataValidationConfig: \n",
    "    def __init__(self,training_pipeline_config:TrainingPipelineConfig):\n",
    "        self.data_validation_dir: str = os.path.join(training_pipeline_config.artifact_dir,training_pipeline.DATA_VALIDATION_DIR_NAME)\n",
    "        self.valid_data_dir: str = os.path.join(self.data_validation_dir,training_pipeline.DATA_VALIDATION_VALID_DIR)\n",
    "        self.invalid_data_dir: str = os.path.join(self.data_validation_dir, training_pipeline.DATA_VALIDATION_INVALID_DIR)\n",
    "        self.valid_train_file_path: str =os.path.join(self.valid_data_dir, training_pipeline.TRAIN_FILE_NAME)\n",
    "        self.valid_test_file_path: str = os.path.join(self.valid_data_dir, training_pipeline.TEST_FILE_NAME)\n",
    "        self.invalid_train_file_path: str = os.path.join(self.invalid_data_dir, training_pipeline.TRAIN_FILE_NAME)\n",
    "        self.invalid_test_file_path: str = os.path.join(self.invalid_data_dir, training_pipeline.TEST_FILE_NAME)\n",
    "        self.drift_report_file_path: str = os.path.join(self.data_validation_dir, \n",
    "                                                        training_pipeline.DATA_VALIDATION_DRIFT_REPORT_DIR, \n",
    "                                                        training_pipeline.DATA_VALIDATION_DRIFT_REPRT_FILE_NAME\n",
    "                                                        )"
   ]
  },
  {
   "cell_type": "code",
   "execution_count": null,
   "id": "d1309bdb",
   "metadata": {},
   "outputs": [],
   "source": [
    "# component \n",
    "from NetworkSecurity.entity.artifact_entity import DataIngestionArtifact\n",
    "\n"
   ]
  }
 ],
 "metadata": {
  "kernelspec": {
   "display_name": "Python 3",
   "language": "python",
   "name": "python3"
  },
  "language_info": {
   "codemirror_mode": {
    "name": "ipython",
    "version": 3
   },
   "file_extension": ".py",
   "mimetype": "text/x-python",
   "name": "python",
   "nbconvert_exporter": "python",
   "pygments_lexer": "ipython3",
   "version": "3.10.0"
  }
 },
 "nbformat": 4,
 "nbformat_minor": 5
}
