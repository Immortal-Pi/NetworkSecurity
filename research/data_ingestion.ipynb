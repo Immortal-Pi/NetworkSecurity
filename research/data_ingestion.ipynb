{
 "cells": [
  {
   "cell_type": "code",
   "execution_count": null,
   "id": "5c3ca7af",
   "metadata": {},
   "outputs": [],
   "source": [
    "# data Ingestion "
   ]
  },
  {
   "cell_type": "code",
   "execution_count": null,
   "id": "29881e81",
   "metadata": {},
   "outputs": [
    {
     "name": "stdout",
     "output_type": "stream",
     "text": [
      "train.csv\n"
     ]
    }
   ],
   "source": [
    "# Entity\n",
    "from datetime import datetime\n",
    "import os \n",
    "from NetworkSecurity.constants import training_pipeline \n",
    "\n",
    "class TrainingPipelineConfig:\n",
    "    def __init__(self, timestamp=datetime.now()):\n",
    "        timestamp=timestamp.strftime('%m_%d_%Y_%H_%M_%S')\n",
    "        \n",
    "\n",
    "class DataIngestionConfig:\n",
    "    def __init__(self,training_pipeline_config:):\n",
    "        pass"
   ]
  },
  {
   "cell_type": "code",
   "execution_count": null,
   "id": "834fe1fc",
   "metadata": {},
   "outputs": [],
   "source": [
    "\n"
   ]
  }
 ],
 "metadata": {
  "kernelspec": {
   "display_name": "Python 3",
   "language": "python",
   "name": "python3"
  },
  "language_info": {
   "codemirror_mode": {
    "name": "ipython",
    "version": 3
   },
   "file_extension": ".py",
   "mimetype": "text/x-python",
   "name": "python",
   "nbconvert_exporter": "python",
   "pygments_lexer": "ipython3",
   "version": "3.10.0"
  }
 },
 "nbformat": 4,
 "nbformat_minor": 5
}
